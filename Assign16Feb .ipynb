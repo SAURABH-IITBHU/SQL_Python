{
 "cells": [
  {
   "cell_type": "markdown",
   "id": "adb0e40d-2835-4882-ada1-2933dae25e0e",
   "metadata": {},
   "source": [
    "## Q1. What is a database? Differentiate between SQL and NoSQL databases."
   ]
  },
  {
   "cell_type": "markdown",
   "id": "dc1b2465-0f2b-4b6b-afce-950ccdb978cd",
   "metadata": {},
   "source": [
    "### Ans. A database is an organized collection of structured information, or data, typically stored electronically in a computer system. A database is usually controlled by a database management system (DBMS).\n",
    "### SQL databases are relational, and NoSQL databases are non-relational.\n",
    "### SQL databases use structured query language (SQL) and have a predefined schema. NoSQL databases have dynamic schemas for unstructured data.\n",
    "### SQL databases are vertically scalable, while NoSQL databases are horizontally scalable.\n",
    "### SQL databases are table-based, while NoSQL databases are document, key-value, graph, or wide-column stores."
   ]
  },
  {
   "cell_type": "markdown",
   "id": "d1c2b986-2cd8-456c-b725-da177a888bb7",
   "metadata": {},
   "source": [
    "# Q2. What is DDL? Explain why CREATE, DROP, ALTER, and TRUNCATE are used with an example."
   ]
  },
  {
   "cell_type": "markdown",
   "id": "36c8fb37-5110-492e-a578-d45e72dc7de4",
   "metadata": {
    "tags": []
   },
   "source": [
    "### Ans. Data Definition Language(DDL) is a subset of SQL and a part of DBMS(Database Management System). DDL consist of Commands to commands like CREATE, ALTER, TRUNCATE and DROP. These commands are used to create or modify the tables in SQL.\n",
    "\n",
    "## CREATE :\n",
    "### This command is used to create a new table in SQL. The user has to give information like table name, column names, and their datatypes.\n",
    "\n",
    "### Example –\n",
    "\n",
    "### CREATE TABLE table_name (\n",
    "### column_1 datatype,\n",
    "### column_2 datatype,\n",
    "### column_3 datatype,....);\n",
    "\n",
    "## DROP :\n",
    "### This command is used to remove an existing table along with its structure from the Database.\n",
    "\n",
    "### Example –\n",
    "\n",
    "### DROP TABLE table_name;\n",
    "\n",
    "## ALTER :\n",
    "### This command is used to add, delete or change columns in the existing table. The user needs to know the existing table name and can do add, delete or modify tasks easily.\n",
    "\n",
    "### Example: \n",
    "\n",
    "### ALTER TABLE table_name\n",
    "### ADD column_name datatype;\n",
    "\n",
    "## TRUNCATE :\n",
    "### This command is used to remove all rows from the table, but the structure of the table still exists.\n",
    "\n",
    "### Example: –\n",
    "\n",
    "### TUNCATE TABLE table_name;"
   ]
  },
  {
   "cell_type": "code",
   "execution_count": null,
   "id": "1d66133c-6ad4-41c7-bf3e-846e0d178474",
   "metadata": {},
   "outputs": [],
   "source": []
  },
  {
   "cell_type": "markdown",
   "id": "b7b5063a-25e6-4902-a532-54a1b453952a",
   "metadata": {},
   "source": [
    "# Q3. What is DML? Explain INSERT, UPDATE, and DELETE with an example."
   ]
  },
  {
   "cell_type": "markdown",
   "id": "faac7f66-845d-4a66-829e-d371c1870b28",
   "metadata": {},
   "source": [
    "### Ans. DML or Data Manipulation Language refers to the manipulation of data present in the database.\n",
    "\n",
    "## INSERT:\n",
    "### Insert command is used to insert data into a table.\n",
    "\n",
    "### Example: −\n",
    "\n",
    "### Insert into <table_name> (column list) values (column values);\n",
    "\n",
    "## UPDATE:\n",
    "### Update command is used to update existing data within a table.\n",
    "\n",
    "### Example:\n",
    "\n",
    "### UPDATE <table_name> SET column_number =value_number WHERE condition;\n",
    "\n",
    "## DELETE\n",
    "### Delete command is used to delete records from a database table.\n",
    "\n",
    "### Example:\n",
    "\n",
    "### Delete from <table_name>WHERE condition;\n",
    "\n"
   ]
  },
  {
   "cell_type": "code",
   "execution_count": null,
   "id": "0c806b3e-adab-4228-b7de-b4ff244ed8f2",
   "metadata": {},
   "outputs": [],
   "source": []
  },
  {
   "cell_type": "markdown",
   "id": "7c5822c3-5287-490d-bb95-8a0144594ac1",
   "metadata": {},
   "source": [
    "# Q4. What is DQL? Explain SELECT with an example."
   ]
  },
  {
   "cell_type": "markdown",
   "id": "0d438a74-bd0a-42f6-8510-a4e8c766b537",
   "metadata": {},
   "source": [
    "### Ans. DQL is a portion of a SQL statement that allows you to get and organise data from a database. You can use the SELECT command to extract data from a database in order to perform actions on it.\n",
    "\n",
    "## SELECT:\n",
    "### Select command is used to retrieve data from the database.\n",
    "\n",
    "### Example:\n",
    "\n",
    "### SELECT * from table_name;"
   ]
  },
  {
   "cell_type": "code",
   "execution_count": null,
   "id": "b115d080-fd6f-4c5d-9f02-300cc26c154c",
   "metadata": {},
   "outputs": [],
   "source": []
  },
  {
   "cell_type": "markdown",
   "id": "118d1cbf-2ede-4c5d-99d6-b13ad1c405c7",
   "metadata": {},
   "source": [
    "# Q5. Explain Primary Key and Foreign Key."
   ]
  },
  {
   "cell_type": "markdown",
   "id": "a370bea5-f32a-44b3-81a6-76c4fb5e5aee",
   "metadata": {},
   "source": [
    "### Ans.\n",
    "## Primary Key:\n",
    "### A primary key generally focuses on the uniqueness of the table. It assures the value in the specific column is unique. The table allows only one primary key.\n",
    "\n",
    "## Foreign Key: \n",
    "### A foreign key is generally used to build a relationship between the two tables. Tables can allow more than one foreign key."
   ]
  },
  {
   "cell_type": "code",
   "execution_count": null,
   "id": "ba8a3a2a-3754-4b21-828a-b50c934164f5",
   "metadata": {},
   "outputs": [],
   "source": []
  },
  {
   "cell_type": "markdown",
   "id": "178418ad-aff4-4541-86bc-69d0b410e0ba",
   "metadata": {},
   "source": [
    "# Q6. Write a python code to connect MySQL to python. Explain the cursor() and execute() method."
   ]
  },
  {
   "cell_type": "markdown",
   "id": "bb7b853f-2896-4073-b964-e41f1e59feaf",
   "metadata": {},
   "source": [
    "### Ans.\n",
    "### import mysql.connector\n",
    "\n",
    "### mydb = mysql.connector.connect(\n",
    "###  host=\"localhost\",\n",
    "###  user=\"abc\",\n",
    "###  password=\"password\")\n",
    "\n",
    "### mycursor = mydb.cursor()\n",
    "### mycursor.execute(\"write SQL query here\")\n",
    "\n",
    "\n",
    "## cursor():\n",
    "### Cursors are created by the connection. cursor() method: they are bound to the connection for the entire lifetime and all the commands are executed in the context of the database session wrapped by the connection.\n",
    "\n",
    "## execute():\n",
    "### The Execute method executes the query, SQL statement or procedure specified in the CommandText property of the Command object."
   ]
  },
  {
   "cell_type": "code",
   "execution_count": null,
   "id": "15cff6f2-d2bb-430a-b838-1a9f39e119ef",
   "metadata": {},
   "outputs": [],
   "source": []
  },
  {
   "cell_type": "markdown",
   "id": "93b48da5-18f0-4bfd-8316-d4aa6da433be",
   "metadata": {},
   "source": [
    "# Q7. Give the order of execution of SQL clauses in an SQL query."
   ]
  },
  {
   "cell_type": "markdown",
   "id": "0d55dd36-b99e-464a-bedb-a96bf96d6eef",
   "metadata": {},
   "source": [
    "### Ans.The oredr of execusion is :\n",
    "## 1.  From/Join\n",
    "## 2. Where\n",
    "## 3. Group By\n",
    "## 4. Having\n",
    "## 5. Select\n",
    "## 6. Order By\n",
    "## 7. Limit/Offset"
   ]
  },
  {
   "cell_type": "code",
   "execution_count": null,
   "id": "636afcce-7d43-4b96-9fc0-176d33a9b9e6",
   "metadata": {},
   "outputs": [],
   "source": []
  }
 ],
 "metadata": {
  "kernelspec": {
   "display_name": "Python 3 (ipykernel)",
   "language": "python",
   "name": "python3"
  },
  "language_info": {
   "codemirror_mode": {
    "name": "ipython",
    "version": 3
   },
   "file_extension": ".py",
   "mimetype": "text/x-python",
   "name": "python",
   "nbconvert_exporter": "python",
   "pygments_lexer": "ipython3",
   "version": "3.10.8"
  }
 },
 "nbformat": 4,
 "nbformat_minor": 5
}
